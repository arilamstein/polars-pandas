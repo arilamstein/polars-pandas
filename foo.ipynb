{
 "cells": [
  {
   "cell_type": "code",
   "execution_count": 1,
   "metadata": {},
   "outputs": [
    {
     "data": {
      "text/html": [
       "<div><style>\n",
       ".dataframe > thead > tr,\n",
       ".dataframe > tbody > tr {\n",
       "  text-align: right;\n",
       "  white-space: pre-wrap;\n",
       "}\n",
       "</style>\n",
       "<small>shape: (3_143, 7)</small><table border=\"1\" class=\"dataframe\"><thead><tr><th>region</th><th>population</th><th>county.fips.character</th><th>county.name</th><th>state.name</th><th>state.fips.character</th><th>state.abb</th></tr><tr><td>i64</td><td>i64</td><td>i64</td><td>str</td><td>str</td><td>i64</td><td>str</td></tr></thead><tbody><tr><td>1001</td><td>54590</td><td>1001</td><td>&quot;autauga&quot;</td><td>&quot;alabama&quot;</td><td>1</td><td>&quot;AL&quot;</td></tr><tr><td>1003</td><td>183226</td><td>1003</td><td>&quot;baldwin&quot;</td><td>&quot;alabama&quot;</td><td>1</td><td>&quot;AL&quot;</td></tr><tr><td>1005</td><td>27469</td><td>1005</td><td>&quot;barbour&quot;</td><td>&quot;alabama&quot;</td><td>1</td><td>&quot;AL&quot;</td></tr><tr><td>1007</td><td>22769</td><td>1007</td><td>&quot;bibb&quot;</td><td>&quot;alabama&quot;</td><td>1</td><td>&quot;AL&quot;</td></tr><tr><td>1009</td><td>57466</td><td>1009</td><td>&quot;blount&quot;</td><td>&quot;alabama&quot;</td><td>1</td><td>&quot;AL&quot;</td></tr><tr><td>&hellip;</td><td>&hellip;</td><td>&hellip;</td><td>&hellip;</td><td>&hellip;</td><td>&hellip;</td><td>&hellip;</td></tr><tr><td>56037</td><td>43890</td><td>56037</td><td>&quot;sweetwater&quot;</td><td>&quot;wyoming&quot;</td><td>56</td><td>&quot;WY&quot;</td></tr><tr><td>56039</td><td>21326</td><td>56039</td><td>&quot;teton&quot;</td><td>&quot;wyoming&quot;</td><td>56</td><td>&quot;WY&quot;</td></tr><tr><td>56041</td><td>20942</td><td>56041</td><td>&quot;uinta&quot;</td><td>&quot;wyoming&quot;</td><td>56</td><td>&quot;WY&quot;</td></tr><tr><td>56043</td><td>8425</td><td>56043</td><td>&quot;washakie&quot;</td><td>&quot;wyoming&quot;</td><td>56</td><td>&quot;WY&quot;</td></tr><tr><td>56045</td><td>7152</td><td>56045</td><td>&quot;weston&quot;</td><td>&quot;wyoming&quot;</td><td>56</td><td>&quot;WY&quot;</td></tr></tbody></table></div>"
      ],
      "text/plain": [
       "shape: (3_143, 7)\n",
       "┌────────┬────────────┬──────────────────┬─────────────┬────────────┬──────────────────┬───────────┐\n",
       "│ region ┆ population ┆ county.fips.char ┆ county.name ┆ state.name ┆ state.fips.chara ┆ state.abb │\n",
       "│ ---    ┆ ---        ┆ acter            ┆ ---         ┆ ---        ┆ cter             ┆ ---       │\n",
       "│ i64    ┆ i64        ┆ ---              ┆ str         ┆ str        ┆ ---              ┆ str       │\n",
       "│        ┆            ┆ i64              ┆             ┆            ┆ i64              ┆           │\n",
       "╞════════╪════════════╪══════════════════╪═════════════╪════════════╪══════════════════╪═══════════╡\n",
       "│ 1001   ┆ 54590      ┆ 1001             ┆ autauga     ┆ alabama    ┆ 1                ┆ AL        │\n",
       "│ 1003   ┆ 183226     ┆ 1003             ┆ baldwin     ┆ alabama    ┆ 1                ┆ AL        │\n",
       "│ 1005   ┆ 27469      ┆ 1005             ┆ barbour     ┆ alabama    ┆ 1                ┆ AL        │\n",
       "│ 1007   ┆ 22769      ┆ 1007             ┆ bibb        ┆ alabama    ┆ 1                ┆ AL        │\n",
       "│ 1009   ┆ 57466      ┆ 1009             ┆ blount      ┆ alabama    ┆ 1                ┆ AL        │\n",
       "│ …      ┆ …          ┆ …                ┆ …           ┆ …          ┆ …                ┆ …         │\n",
       "│ 56037  ┆ 43890      ┆ 56037            ┆ sweetwater  ┆ wyoming    ┆ 56               ┆ WY        │\n",
       "│ 56039  ┆ 21326      ┆ 56039            ┆ teton       ┆ wyoming    ┆ 56               ┆ WY        │\n",
       "│ 56041  ┆ 20942      ┆ 56041            ┆ uinta       ┆ wyoming    ┆ 56               ┆ WY        │\n",
       "│ 56043  ┆ 8425       ┆ 56043            ┆ washakie    ┆ wyoming    ┆ 56               ┆ WY        │\n",
       "│ 56045  ┆ 7152       ┆ 56045            ┆ weston      ┆ wyoming    ┆ 56               ┆ WY        │\n",
       "└────────┴────────────┴──────────────────┴─────────────┴────────────┴──────────────────┴───────────┘"
      ]
     },
     "execution_count": 1,
     "metadata": {},
     "output_type": "execute_result"
    }
   ],
   "source": [
    "import polars as pl\n",
    "\n",
    "df = pl.read_csv('county_data.csv')\n",
    "df\n"
   ]
  },
  {
   "cell_type": "code",
   "execution_count": 11,
   "metadata": {},
   "outputs": [
    {
     "data": {
      "text/html": [
       "<div><style>\n",
       ".dataframe > thead > tr,\n",
       ".dataframe > tbody > tr {\n",
       "  text-align: right;\n",
       "  white-space: pre-wrap;\n",
       "}\n",
       "</style>\n",
       "<small>shape: (31, 7)</small><table border=\"1\" class=\"dataframe\"><thead><tr><th>region</th><th>population</th><th>county.fips.character</th><th>county.name</th><th>state.name</th><th>state.fips.character</th><th>state.abb</th></tr><tr><td>i64</td><td>i64</td><td>i64</td><td>str</td><td>str</td><td>i64</td><td>str</td></tr></thead><tbody><tr><td>1129</td><td>17407</td><td>1129</td><td>&quot;washington&quot;</td><td>&quot;alabama&quot;</td><td>1</td><td>&quot;AL&quot;</td></tr><tr><td>5143</td><td>204057</td><td>5143</td><td>&quot;washington&quot;</td><td>&quot;arkansas&quot;</td><td>5</td><td>&quot;AR&quot;</td></tr><tr><td>8121</td><td>4796</td><td>8121</td><td>&quot;washington&quot;</td><td>&quot;colorado&quot;</td><td>8</td><td>&quot;CO&quot;</td></tr><tr><td>12133</td><td>24732</td><td>12133</td><td>&quot;washington&quot;</td><td>&quot;florida&quot;</td><td>12</td><td>&quot;FL&quot;</td></tr><tr><td>13303</td><td>21092</td><td>13303</td><td>&quot;washington&quot;</td><td>&quot;georgia&quot;</td><td>13</td><td>&quot;GA&quot;</td></tr><tr><td>&hellip;</td><td>&hellip;</td><td>&hellip;</td><td>&hellip;</td><td>&hellip;</td><td>&hellip;</td><td>&hellip;</td></tr><tr><td>48477</td><td>33628</td><td>48477</td><td>&quot;washington&quot;</td><td>&quot;texas&quot;</td><td>48</td><td>&quot;TX&quot;</td></tr><tr><td>49053</td><td>139484</td><td>49053</td><td>&quot;washington&quot;</td><td>&quot;utah&quot;</td><td>49</td><td>&quot;UT&quot;</td></tr><tr><td>50023</td><td>59462</td><td>50023</td><td>&quot;washington&quot;</td><td>&quot;vermont&quot;</td><td>50</td><td>&quot;VT&quot;</td></tr><tr><td>51191</td><td>54691</td><td>51191</td><td>&quot;washington&quot;</td><td>&quot;virginia&quot;</td><td>51</td><td>&quot;VA&quot;</td></tr><tr><td>55131</td><td>131840</td><td>55131</td><td>&quot;washington&quot;</td><td>&quot;wisconsin&quot;</td><td>55</td><td>&quot;WI&quot;</td></tr></tbody></table></div>"
      ],
      "text/plain": [
       "shape: (31, 7)\n",
       "┌────────┬────────────┬──────────────────┬─────────────┬────────────┬──────────────────┬───────────┐\n",
       "│ region ┆ population ┆ county.fips.char ┆ county.name ┆ state.name ┆ state.fips.chara ┆ state.abb │\n",
       "│ ---    ┆ ---        ┆ acter            ┆ ---         ┆ ---        ┆ cter             ┆ ---       │\n",
       "│ i64    ┆ i64        ┆ ---              ┆ str         ┆ str        ┆ ---              ┆ str       │\n",
       "│        ┆            ┆ i64              ┆             ┆            ┆ i64              ┆           │\n",
       "╞════════╪════════════╪══════════════════╪═════════════╪════════════╪══════════════════╪═══════════╡\n",
       "│ 1129   ┆ 17407      ┆ 1129             ┆ washington  ┆ alabama    ┆ 1                ┆ AL        │\n",
       "│ 5143   ┆ 204057     ┆ 5143             ┆ washington  ┆ arkansas   ┆ 5                ┆ AR        │\n",
       "│ 8121   ┆ 4796       ┆ 8121             ┆ washington  ┆ colorado   ┆ 8                ┆ CO        │\n",
       "│ 12133  ┆ 24732      ┆ 12133            ┆ washington  ┆ florida    ┆ 12               ┆ FL        │\n",
       "│ 13303  ┆ 21092      ┆ 13303            ┆ washington  ┆ georgia    ┆ 13               ┆ GA        │\n",
       "│ …      ┆ …          ┆ …                ┆ …           ┆ …          ┆ …                ┆ …         │\n",
       "│ 48477  ┆ 33628      ┆ 48477            ┆ washington  ┆ texas      ┆ 48               ┆ TX        │\n",
       "│ 49053  ┆ 139484     ┆ 49053            ┆ washington  ┆ utah       ┆ 49               ┆ UT        │\n",
       "│ 50023  ┆ 59462      ┆ 50023            ┆ washington  ┆ vermont    ┆ 50               ┆ VT        │\n",
       "│ 51191  ┆ 54691      ┆ 51191            ┆ washington  ┆ virginia   ┆ 51               ┆ VA        │\n",
       "│ 55131  ┆ 131840     ┆ 55131            ┆ washington  ┆ wisconsin  ┆ 55               ┆ WI        │\n",
       "└────────┴────────────┴──────────────────┴─────────────┴────────────┴──────────────────┴───────────┘"
      ]
     },
     "execution_count": 11,
     "metadata": {},
     "output_type": "execute_result"
    }
   ],
   "source": [
    "# Which counties have the name \"washington\"?\n",
    "df.filter(pl.col('county.name') == 'washington')"
   ]
  },
  {
   "cell_type": "code",
   "execution_count": 17,
   "metadata": {},
   "outputs": [
    {
     "data": {
      "text/html": [
       "<div><style>\n",
       ".dataframe > thead > tr,\n",
       ".dataframe > tbody > tr {\n",
       "  text-align: right;\n",
       "  white-space: pre-wrap;\n",
       "}\n",
       "</style>\n",
       "<small>shape: (31, 2)</small><table border=\"1\" class=\"dataframe\"><thead><tr><th>county.name</th><th>state.name</th></tr><tr><td>str</td><td>str</td></tr></thead><tbody><tr><td>&quot;washington&quot;</td><td>&quot;alabama&quot;</td></tr><tr><td>&quot;washington&quot;</td><td>&quot;arkansas&quot;</td></tr><tr><td>&quot;washington&quot;</td><td>&quot;colorado&quot;</td></tr><tr><td>&quot;washington&quot;</td><td>&quot;florida&quot;</td></tr><tr><td>&quot;washington&quot;</td><td>&quot;georgia&quot;</td></tr><tr><td>&hellip;</td><td>&hellip;</td></tr><tr><td>&quot;washington&quot;</td><td>&quot;texas&quot;</td></tr><tr><td>&quot;washington&quot;</td><td>&quot;utah&quot;</td></tr><tr><td>&quot;washington&quot;</td><td>&quot;vermont&quot;</td></tr><tr><td>&quot;washington&quot;</td><td>&quot;virginia&quot;</td></tr><tr><td>&quot;washington&quot;</td><td>&quot;wisconsin&quot;</td></tr></tbody></table></div>"
      ],
      "text/plain": [
       "shape: (31, 2)\n",
       "┌─────────────┬────────────┐\n",
       "│ county.name ┆ state.name │\n",
       "│ ---         ┆ ---        │\n",
       "│ str         ┆ str        │\n",
       "╞═════════════╪════════════╡\n",
       "│ washington  ┆ alabama    │\n",
       "│ washington  ┆ arkansas   │\n",
       "│ washington  ┆ colorado   │\n",
       "│ washington  ┆ florida    │\n",
       "│ washington  ┆ georgia    │\n",
       "│ …           ┆ …          │\n",
       "│ washington  ┆ texas      │\n",
       "│ washington  ┆ utah       │\n",
       "│ washington  ┆ vermont    │\n",
       "│ washington  ┆ virginia   │\n",
       "│ washington  ┆ wisconsin  │\n",
       "└─────────────┴────────────┘"
      ]
     },
     "execution_count": 17,
     "metadata": {},
     "output_type": "execute_result"
    }
   ],
   "source": [
    "# Just show the county and state columns\n",
    "(\n",
    "    df\n",
    "    .filter(pl.col('county.name') == 'washington')\n",
    "    .select(['county.name', 'state.name'])\n",
    ")"
   ]
  },
  {
   "cell_type": "code",
   "execution_count": 16,
   "metadata": {},
   "outputs": [
    {
     "data": {
      "text/html": [
       "<div><style>\n",
       ".dataframe > thead > tr,\n",
       ".dataframe > tbody > tr {\n",
       "  text-align: right;\n",
       "  white-space: pre-wrap;\n",
       "}\n",
       "</style>\n",
       "<small>shape: (1_832, 2)</small><table border=\"1\" class=\"dataframe\"><thead><tr><th>county.name</th><th>len</th></tr><tr><td>str</td><td>u32</td></tr></thead><tbody><tr><td>&quot;washington&quot;</td><td>31</td></tr><tr><td>&quot;franklin&quot;</td><td>26</td></tr><tr><td>&quot;jefferson&quot;</td><td>26</td></tr><tr><td>&quot;lincoln&quot;</td><td>24</td></tr><tr><td>&quot;jackson&quot;</td><td>24</td></tr><tr><td>&hellip;</td><td>&hellip;</td></tr><tr><td>&quot;pointe coupee&quot;</td><td>1</td></tr><tr><td>&quot;kootenai&quot;</td><td>1</td></tr><tr><td>&quot;jersey&quot;</td><td>1</td></tr><tr><td>&quot;mohave&quot;</td><td>1</td></tr><tr><td>&quot;uintah&quot;</td><td>1</td></tr></tbody></table></div>"
      ],
      "text/plain": [
       "shape: (1_832, 2)\n",
       "┌───────────────┬─────┐\n",
       "│ county.name   ┆ len │\n",
       "│ ---           ┆ --- │\n",
       "│ str           ┆ u32 │\n",
       "╞═══════════════╪═════╡\n",
       "│ washington    ┆ 31  │\n",
       "│ franklin      ┆ 26  │\n",
       "│ jefferson     ┆ 26  │\n",
       "│ lincoln       ┆ 24  │\n",
       "│ jackson       ┆ 24  │\n",
       "│ …             ┆ …   │\n",
       "│ pointe coupee ┆ 1   │\n",
       "│ kootenai      ┆ 1   │\n",
       "│ jersey        ┆ 1   │\n",
       "│ mohave        ┆ 1   │\n",
       "│ uintah        ┆ 1   │\n",
       "└───────────────┴─────┘"
      ]
     },
     "execution_count": 16,
     "metadata": {},
     "output_type": "execute_result"
    }
   ],
   "source": [
    "# What are the most popular county names?\n",
    "(\n",
    "    df\n",
    "    .group_by('county.name')\n",
    "    .len()\n",
    "    .sort(pl.col('len'), descending=True)\n",
    ")"
   ]
  },
  {
   "cell_type": "code",
   "execution_count": 9,
   "metadata": {},
   "outputs": [
    {
     "data": {
      "text/html": [
       "\n",
       "<style>\n",
       "  #altair-viz-856b7ffacfb7431c9f1123ccef403852.vega-embed {\n",
       "    width: 100%;\n",
       "    display: flex;\n",
       "  }\n",
       "\n",
       "  #altair-viz-856b7ffacfb7431c9f1123ccef403852.vega-embed details,\n",
       "  #altair-viz-856b7ffacfb7431c9f1123ccef403852.vega-embed details summary {\n",
       "    position: relative;\n",
       "  }\n",
       "</style>\n",
       "<div id=\"altair-viz-856b7ffacfb7431c9f1123ccef403852\"></div>\n",
       "<script type=\"text/javascript\">\n",
       "  var VEGA_DEBUG = (typeof VEGA_DEBUG == \"undefined\") ? {} : VEGA_DEBUG;\n",
       "  (function(spec, embedOpt){\n",
       "    let outputDiv = document.currentScript.previousElementSibling;\n",
       "    if (outputDiv.id !== \"altair-viz-856b7ffacfb7431c9f1123ccef403852\") {\n",
       "      outputDiv = document.getElementById(\"altair-viz-856b7ffacfb7431c9f1123ccef403852\");\n",
       "    }\n",
       "    const paths = {\n",
       "      \"vega\": \"https://cdn.jsdelivr.net/npm/vega@5?noext\",\n",
       "      \"vega-lib\": \"https://cdn.jsdelivr.net/npm/vega-lib?noext\",\n",
       "      \"vega-lite\": \"https://cdn.jsdelivr.net/npm/vega-lite@5.20.1?noext\",\n",
       "      \"vega-embed\": \"https://cdn.jsdelivr.net/npm/vega-embed@6?noext\",\n",
       "    };\n",
       "\n",
       "    function maybeLoadScript(lib, version) {\n",
       "      var key = `${lib.replace(\"-\", \"\")}_version`;\n",
       "      return (VEGA_DEBUG[key] == version) ?\n",
       "        Promise.resolve(paths[lib]) :\n",
       "        new Promise(function(resolve, reject) {\n",
       "          var s = document.createElement('script');\n",
       "          document.getElementsByTagName(\"head\")[0].appendChild(s);\n",
       "          s.async = true;\n",
       "          s.onload = () => {\n",
       "            VEGA_DEBUG[key] = version;\n",
       "            return resolve(paths[lib]);\n",
       "          };\n",
       "          s.onerror = () => reject(`Error loading script: ${paths[lib]}`);\n",
       "          s.src = paths[lib];\n",
       "        });\n",
       "    }\n",
       "\n",
       "    function showError(err) {\n",
       "      outputDiv.innerHTML = `<div class=\"error\" style=\"color:red;\">${err}</div>`;\n",
       "      throw err;\n",
       "    }\n",
       "\n",
       "    function displayChart(vegaEmbed) {\n",
       "      vegaEmbed(outputDiv, spec, embedOpt)\n",
       "        .catch(err => showError(`Javascript Error: ${err.message}<br>This usually means there's a typo in your chart specification. See the javascript console for the full traceback.`));\n",
       "    }\n",
       "\n",
       "    if(typeof define === \"function\" && define.amd) {\n",
       "      requirejs.config({paths});\n",
       "      require([\"vega-embed\"], displayChart, err => showError(`Error loading script: ${err.message}`));\n",
       "    } else {\n",
       "      maybeLoadScript(\"vega\", \"5\")\n",
       "        .then(() => maybeLoadScript(\"vega-lite\", \"5.20.1\"))\n",
       "        .then(() => maybeLoadScript(\"vega-embed\", \"6\"))\n",
       "        .catch(showError)\n",
       "        .then(() => displayChart(vegaEmbed));\n",
       "    }\n",
       "  })({\"config\": {\"view\": {\"continuousWidth\": 300, \"continuousHeight\": 300}}, \"data\": {\"name\": \"data-976fe50da82017b3c01509732882066a\"}, \"mark\": {\"type\": \"bar\"}, \"encoding\": {\"x\": {\"bin\": true, \"field\": \"len\", \"type\": \"quantitative\"}, \"y\": {\"aggregate\": \"count\", \"type\": \"quantitative\"}}, \"params\": [{\"name\": \"param_3\", \"select\": {\"type\": \"interval\", \"encodings\": [\"x\", \"y\"]}, \"bind\": \"scales\"}], \"$schema\": \"https://vega.github.io/schema/vega-lite/v5.20.1.json\", \"datasets\": {\"data-976fe50da82017b3c01509732882066a\": [{\"len\": 1}, {\"len\": 1}, {\"len\": 1}, {\"len\": 1}, {\"len\": 1}, {\"len\": 1}, {\"len\": 3}, {\"len\": 1}, {\"len\": 1}, {\"len\": 2}, {\"len\": 1}, {\"len\": 1}, {\"len\": 1}, {\"len\": 1}, {\"len\": 1}, {\"len\": 1}, {\"len\": 1}, {\"len\": 1}, {\"len\": 3}, {\"len\": 1}, {\"len\": 2}, {\"len\": 1}, {\"len\": 1}, {\"len\": 3}, {\"len\": 5}, {\"len\": 1}, {\"len\": 1}, {\"len\": 1}, {\"len\": 2}, {\"len\": 2}, {\"len\": 1}, {\"len\": 1}, {\"len\": 1}, {\"len\": 1}, {\"len\": 1}, {\"len\": 1}, {\"len\": 1}, {\"len\": 1}, {\"len\": 1}, {\"len\": 1}, {\"len\": 1}, {\"len\": 1}, {\"len\": 1}, {\"len\": 1}, {\"len\": 1}, {\"len\": 4}, {\"len\": 3}, {\"len\": 1}, {\"len\": 1}, {\"len\": 1}, {\"len\": 1}, {\"len\": 1}, {\"len\": 1}, {\"len\": 10}, {\"len\": 1}, {\"len\": 1}, {\"len\": 1}, {\"len\": 1}, {\"len\": 1}, {\"len\": 2}, {\"len\": 1}, {\"len\": 1}, {\"len\": 3}, {\"len\": 1}, {\"len\": 1}, {\"len\": 2}, {\"len\": 1}, {\"len\": 2}, {\"len\": 1}, {\"len\": 3}, {\"len\": 1}, {\"len\": 3}, {\"len\": 1}, {\"len\": 1}, {\"len\": 1}, {\"len\": 1}, {\"len\": 1}, {\"len\": 1}, {\"len\": 1}, {\"len\": 8}, {\"len\": 1}, {\"len\": 1}, {\"len\": 1}, {\"len\": 1}, {\"len\": 1}, {\"len\": 1}, {\"len\": 1}, {\"len\": 1}, {\"len\": 1}, {\"len\": 1}, {\"len\": 1}, {\"len\": 1}, {\"len\": 1}, {\"len\": 1}, {\"len\": 2}, {\"len\": 1}, {\"len\": 2}, {\"len\": 2}, {\"len\": 1}, {\"len\": 1}, {\"len\": 1}, {\"len\": 1}, {\"len\": 2}, {\"len\": 1}, {\"len\": 1}, {\"len\": 1}, {\"len\": 2}, {\"len\": 2}, {\"len\": 1}, {\"len\": 1}, {\"len\": 1}, {\"len\": 2}, {\"len\": 1}, {\"len\": 4}, {\"len\": 1}, {\"len\": 1}, {\"len\": 1}, {\"len\": 1}, {\"len\": 9}, {\"len\": 1}, {\"len\": 2}, {\"len\": 1}, {\"len\": 1}, {\"len\": 1}, {\"len\": 1}, {\"len\": 1}, {\"len\": 1}, {\"len\": 1}, {\"len\": 1}, {\"len\": 3}, {\"len\": 1}, {\"len\": 2}, {\"len\": 2}, {\"len\": 3}, {\"len\": 1}, {\"len\": 1}, {\"len\": 2}, {\"len\": 2}, {\"len\": 1}, {\"len\": 1}, {\"len\": 1}, {\"len\": 1}, {\"len\": 2}, {\"len\": 2}, {\"len\": 1}, {\"len\": 1}, {\"len\": 1}, {\"len\": 1}, {\"len\": 2}, {\"len\": 1}, {\"len\": 1}, {\"len\": 1}, {\"len\": 3}, {\"len\": 3}, {\"len\": 1}, {\"len\": 3}, {\"len\": 1}, {\"len\": 1}, {\"len\": 1}, {\"len\": 1}, {\"len\": 1}, {\"len\": 2}, {\"len\": 1}, {\"len\": 1}, {\"len\": 1}, {\"len\": 1}, {\"len\": 1}, {\"len\": 1}, {\"len\": 1}, {\"len\": 1}, {\"len\": 1}, {\"len\": 1}, {\"len\": 2}, {\"len\": 1}, {\"len\": 1}, {\"len\": 1}, {\"len\": 1}, {\"len\": 1}, {\"len\": 1}, {\"len\": 1}, {\"len\": 1}, {\"len\": 1}, {\"len\": 3}, {\"len\": 3}, {\"len\": 1}, {\"len\": 1}, {\"len\": 3}, {\"len\": 1}, {\"len\": 2}, {\"len\": 1}, {\"len\": 1}, {\"len\": 1}, {\"len\": 1}, {\"len\": 1}, {\"len\": 1}, {\"len\": 1}, {\"len\": 1}, {\"len\": 1}, {\"len\": 1}, {\"len\": 1}, {\"len\": 1}, {\"len\": 1}, {\"len\": 1}, {\"len\": 1}, {\"len\": 1}, {\"len\": 1}, {\"len\": 1}, {\"len\": 1}, {\"len\": 1}, {\"len\": 1}, {\"len\": 1}, {\"len\": 3}, {\"len\": 1}, {\"len\": 1}, {\"len\": 1}, {\"len\": 1}, {\"len\": 2}, {\"len\": 1}, {\"len\": 1}, {\"len\": 1}, {\"len\": 1}, {\"len\": 1}, {\"len\": 1}, {\"len\": 1}, {\"len\": 1}, {\"len\": 1}, {\"len\": 1}, {\"len\": 5}, {\"len\": 1}, {\"len\": 1}, {\"len\": 1}, {\"len\": 8}, {\"len\": 1}, {\"len\": 1}, {\"len\": 1}, {\"len\": 1}, {\"len\": 4}, {\"len\": 5}, {\"len\": 2}, {\"len\": 1}, {\"len\": 1}, {\"len\": 1}, {\"len\": 6}, {\"len\": 2}, {\"len\": 1}, {\"len\": 1}, {\"len\": 2}, {\"len\": 1}, {\"len\": 1}, {\"len\": 1}, {\"len\": 1}, {\"len\": 1}, {\"len\": 4}, {\"len\": 1}, {\"len\": 1}, {\"len\": 1}, {\"len\": 1}, {\"len\": 1}, {\"len\": 1}, {\"len\": 1}, {\"len\": 5}, {\"len\": 1}, {\"len\": 1}, {\"len\": 1}, {\"len\": 1}, {\"len\": 1}, {\"len\": 1}, {\"len\": 1}, {\"len\": 1}, {\"len\": 1}, {\"len\": 1}, {\"len\": 1}, {\"len\": 1}, {\"len\": 1}, {\"len\": 12}, {\"len\": 2}, {\"len\": 1}, {\"len\": 2}, {\"len\": 1}, {\"len\": 1}, {\"len\": 3}, {\"len\": 1}, {\"len\": 1}, {\"len\": 24}, {\"len\": 2}, {\"len\": 1}, {\"len\": 1}, {\"len\": 1}, {\"len\": 1}, {\"len\": 1}, {\"len\": 2}, {\"len\": 1}, {\"len\": 1}, {\"len\": 18}, {\"len\": 1}, {\"len\": 1}, {\"len\": 1}, {\"len\": 1}, {\"len\": 1}, {\"len\": 1}, {\"len\": 1}, {\"len\": 3}, {\"len\": 1}, {\"len\": 1}, {\"len\": 1}, {\"len\": 1}, {\"len\": 4}, {\"len\": 1}, {\"len\": 1}, {\"len\": 1}, {\"len\": 1}, {\"len\": 1}, {\"len\": 1}, {\"len\": 1}, {\"len\": 1}, {\"len\": 1}, {\"len\": 3}, {\"len\": 1}, {\"len\": 1}, {\"len\": 1}, {\"len\": 1}, {\"len\": 1}, {\"len\": 1}, {\"len\": 1}, {\"len\": 1}, {\"len\": 1}, {\"len\": 1}, {\"len\": 1}, {\"len\": 1}, {\"len\": 6}, {\"len\": 1}, {\"len\": 2}, {\"len\": 2}, {\"len\": 2}, {\"len\": 2}, {\"len\": 2}, {\"len\": 1}, {\"len\": 1}, {\"len\": 1}, {\"len\": 12}, {\"len\": 2}, {\"len\": 1}, {\"len\": 1}, {\"len\": 1}, {\"len\": 1}, {\"len\": 7}, {\"len\": 1}, {\"len\": 1}, {\"len\": 4}, {\"len\": 1}, {\"len\": 1}, {\"len\": 1}, {\"len\": 2}, {\"len\": 1}, {\"len\": 1}, {\"len\": 1}, {\"len\": 1}, {\"len\": 1}, {\"len\": 1}, {\"len\": 1}, {\"len\": 1}, {\"len\": 1}, {\"len\": 1}, {\"len\": 2}, {\"len\": 1}, {\"len\": 1}, {\"len\": 2}, {\"len\": 1}, {\"len\": 1}, {\"len\": 1}, {\"len\": 1}, {\"len\": 1}, {\"len\": 1}, {\"len\": 1}, {\"len\": 1}, {\"len\": 1}, {\"len\": 1}, {\"len\": 1}, {\"len\": 1}, {\"len\": 1}, {\"len\": 1}, {\"len\": 2}, {\"len\": 1}, {\"len\": 2}, {\"len\": 1}, {\"len\": 1}, {\"len\": 1}, {\"len\": 1}, {\"len\": 1}, {\"len\": 2}, {\"len\": 1}, {\"len\": 1}, {\"len\": 1}, {\"len\": 1}, {\"len\": 1}, {\"len\": 1}, {\"len\": 1}, {\"len\": 1}, {\"len\": 1}, {\"len\": 1}, {\"len\": 1}, {\"len\": 1}, {\"len\": 2}, {\"len\": 1}, {\"len\": 11}, {\"len\": 1}, {\"len\": 3}, {\"len\": 1}, {\"len\": 1}, {\"len\": 1}, {\"len\": 1}, {\"len\": 1}, {\"len\": 1}, {\"len\": 1}, {\"len\": 1}, {\"len\": 2}, {\"len\": 1}, {\"len\": 2}, {\"len\": 1}, {\"len\": 1}, {\"len\": 1}, {\"len\": 1}, {\"len\": 1}, {\"len\": 1}, {\"len\": 1}, {\"len\": 2}, {\"len\": 2}, {\"len\": 1}, {\"len\": 1}, {\"len\": 1}, {\"len\": 1}, {\"len\": 1}, {\"len\": 1}, {\"len\": 1}, {\"len\": 2}, {\"len\": 1}, {\"len\": 1}, {\"len\": 20}, {\"len\": 1}, {\"len\": 2}, {\"len\": 1}, {\"len\": 1}, {\"len\": 1}, {\"len\": 1}, {\"len\": 1}, {\"len\": 1}, {\"len\": 1}, {\"len\": 1}, {\"len\": 1}, {\"len\": 1}, {\"len\": 1}, {\"len\": 1}, {\"len\": 1}, {\"len\": 1}, {\"len\": 2}, {\"len\": 1}, {\"len\": 2}, {\"len\": 1}, {\"len\": 2}, {\"len\": 2}, {\"len\": 1}, {\"len\": 2}, {\"len\": 1}, {\"len\": 1}, {\"len\": 2}, {\"len\": 1}, {\"len\": 1}, {\"len\": 1}, {\"len\": 1}, {\"len\": 2}, {\"len\": 3}, {\"len\": 1}, {\"len\": 7}, {\"len\": 4}, {\"len\": 1}, {\"len\": 1}, {\"len\": 2}, {\"len\": 1}, {\"len\": 1}, {\"len\": 2}, {\"len\": 1}, {\"len\": 2}, {\"len\": 3}, {\"len\": 1}, {\"len\": 1}, {\"len\": 3}, {\"len\": 2}, {\"len\": 1}, {\"len\": 3}, {\"len\": 1}, {\"len\": 3}, {\"len\": 2}, {\"len\": 1}, {\"len\": 1}, {\"len\": 1}, {\"len\": 1}, {\"len\": 1}, {\"len\": 1}, {\"len\": 1}, {\"len\": 1}, {\"len\": 1}, {\"len\": 1}, {\"len\": 1}, {\"len\": 1}, {\"len\": 1}, {\"len\": 3}, {\"len\": 1}, {\"len\": 1}, {\"len\": 1}, {\"len\": 1}, {\"len\": 1}, {\"len\": 2}, {\"len\": 1}, {\"len\": 1}, {\"len\": 1}, {\"len\": 1}, {\"len\": 1}, {\"len\": 1}, {\"len\": 1}, {\"len\": 7}, {\"len\": 1}, {\"len\": 1}, {\"len\": 12}, {\"len\": 10}, {\"len\": 1}, {\"len\": 1}, {\"len\": 1}, {\"len\": 1}, {\"len\": 1}, {\"len\": 1}, {\"len\": 8}, {\"len\": 1}, {\"len\": 6}, {\"len\": 2}, {\"len\": 1}, {\"len\": 1}, {\"len\": 1}, {\"len\": 1}, {\"len\": 1}, {\"len\": 1}, {\"len\": 1}, {\"len\": 1}, {\"len\": 2}, {\"len\": 11}, {\"len\": 1}, {\"len\": 1}, {\"len\": 1}, {\"len\": 1}, {\"len\": 1}, {\"len\": 1}, {\"len\": 1}, {\"len\": 1}, {\"len\": 1}, {\"len\": 1}, {\"len\": 1}, {\"len\": 8}, {\"len\": 1}, {\"len\": 1}, {\"len\": 1}, {\"len\": 2}, {\"len\": 1}, {\"len\": 1}, {\"len\": 2}, {\"len\": 1}, {\"len\": 11}, {\"len\": 1}, {\"len\": 18}, {\"len\": 1}, {\"len\": 1}, {\"len\": 1}, {\"len\": 1}, {\"len\": 9}, {\"len\": 1}, {\"len\": 1}, {\"len\": 1}, {\"len\": 2}, {\"len\": 1}, {\"len\": 1}, {\"len\": 1}, {\"len\": 1}, {\"len\": 1}, {\"len\": 1}, {\"len\": 1}, {\"len\": 1}, {\"len\": 1}, {\"len\": 2}, {\"len\": 1}, {\"len\": 1}, {\"len\": 1}, {\"len\": 1}, {\"len\": 1}, {\"len\": 1}, {\"len\": 5}, {\"len\": 1}, {\"len\": 1}, {\"len\": 1}, {\"len\": 3}, {\"len\": 1}, {\"len\": 1}, {\"len\": 1}, {\"len\": 1}, {\"len\": 1}, {\"len\": 2}, {\"len\": 1}, {\"len\": 1}, {\"len\": 1}, {\"len\": 2}, {\"len\": 1}, {\"len\": 1}, {\"len\": 2}, {\"len\": 1}, {\"len\": 4}, {\"len\": 1}, {\"len\": 1}, {\"len\": 1}, {\"len\": 2}, {\"len\": 1}, {\"len\": 1}, {\"len\": 2}, {\"len\": 3}, {\"len\": 1}, {\"len\": 2}, {\"len\": 1}, {\"len\": 1}, {\"len\": 1}, {\"len\": 1}, {\"len\": 1}, {\"len\": 11}, {\"len\": 1}, {\"len\": 1}, {\"len\": 1}, {\"len\": 1}, {\"len\": 10}, {\"len\": 1}, {\"len\": 1}, {\"len\": 1}, {\"len\": 1}, {\"len\": 1}, {\"len\": 1}, {\"len\": 1}, {\"len\": 1}, {\"len\": 1}, {\"len\": 2}, {\"len\": 2}, {\"len\": 1}, {\"len\": 6}, {\"len\": 2}, {\"len\": 1}, {\"len\": 1}, {\"len\": 1}, {\"len\": 1}, {\"len\": 1}, {\"len\": 1}, {\"len\": 1}, {\"len\": 2}, {\"len\": 1}, {\"len\": 1}, {\"len\": 1}, {\"len\": 1}, {\"len\": 1}, {\"len\": 1}, {\"len\": 1}, {\"len\": 1}, {\"len\": 1}, {\"len\": 1}, {\"len\": 1}, {\"len\": 1}, {\"len\": 8}, {\"len\": 2}, {\"len\": 1}, {\"len\": 1}, {\"len\": 3}, {\"len\": 1}, {\"len\": 1}, {\"len\": 1}, {\"len\": 1}, {\"len\": 8}, {\"len\": 1}, {\"len\": 1}, {\"len\": 2}, {\"len\": 1}, {\"len\": 1}, {\"len\": 2}, {\"len\": 4}, {\"len\": 1}, {\"len\": 2}, {\"len\": 2}, {\"len\": 1}, {\"len\": 1}, {\"len\": 2}, {\"len\": 2}, {\"len\": 1}, {\"len\": 1}, {\"len\": 1}, {\"len\": 1}, {\"len\": 1}, {\"len\": 1}, {\"len\": 1}, {\"len\": 1}, {\"len\": 4}, {\"len\": 1}, {\"len\": 1}, {\"len\": 1}, {\"len\": 1}, {\"len\": 1}, {\"len\": 1}, {\"len\": 2}, {\"len\": 9}, {\"len\": 2}, {\"len\": 1}, {\"len\": 1}, {\"len\": 1}, {\"len\": 1}, {\"len\": 1}, {\"len\": 3}, {\"len\": 1}, {\"len\": 1}, {\"len\": 1}, {\"len\": 1}, {\"len\": 1}, {\"len\": 1}, {\"len\": 1}, {\"len\": 2}, {\"len\": 1}, {\"len\": 1}, {\"len\": 8}, {\"len\": 1}, {\"len\": 1}, {\"len\": 1}, {\"len\": 1}, {\"len\": 2}, {\"len\": 1}, {\"len\": 1}, {\"len\": 1}, {\"len\": 1}, {\"len\": 3}, {\"len\": 5}, {\"len\": 1}, {\"len\": 1}, {\"len\": 2}, {\"len\": 1}, {\"len\": 1}, {\"len\": 1}, {\"len\": 1}, {\"len\": 1}, {\"len\": 1}, {\"len\": 1}, {\"len\": 1}, {\"len\": 1}, {\"len\": 1}, {\"len\": 1}, {\"len\": 1}, {\"len\": 2}, {\"len\": 1}, {\"len\": 2}, {\"len\": 2}, {\"len\": 1}, {\"len\": 2}, {\"len\": 6}, {\"len\": 1}, {\"len\": 1}, {\"len\": 1}, {\"len\": 3}, {\"len\": 1}, {\"len\": 3}, {\"len\": 1}, {\"len\": 5}, {\"len\": 4}, {\"len\": 1}, {\"len\": 1}, {\"len\": 1}, {\"len\": 2}, {\"len\": 1}, {\"len\": 1}, {\"len\": 1}, {\"len\": 3}, {\"len\": 1}, {\"len\": 1}, {\"len\": 1}, {\"len\": 2}, {\"len\": 1}, {\"len\": 1}, {\"len\": 1}, {\"len\": 2}, {\"len\": 1}, {\"len\": 1}, {\"len\": 1}, {\"len\": 1}, {\"len\": 1}, {\"len\": 1}, {\"len\": 1}, {\"len\": 2}, {\"len\": 1}, {\"len\": 1}, {\"len\": 1}, {\"len\": 1}, {\"len\": 2}, {\"len\": 1}, {\"len\": 1}, {\"len\": 1}, {\"len\": 6}, {\"len\": 1}, {\"len\": 1}, {\"len\": 1}, {\"len\": 1}, {\"len\": 1}, {\"len\": 1}, {\"len\": 1}, {\"len\": 1}, {\"len\": 1}, {\"len\": 1}, {\"len\": 1}, {\"len\": 1}, {\"len\": 1}, {\"len\": 1}, {\"len\": 3}, {\"len\": 1}, {\"len\": 1}, {\"len\": 7}, {\"len\": 1}, {\"len\": 1}, {\"len\": 1}, {\"len\": 1}, {\"len\": 2}, {\"len\": 1}, {\"len\": 1}, {\"len\": 3}, {\"len\": 1}, {\"len\": 1}, {\"len\": 1}, {\"len\": 1}, {\"len\": 4}, {\"len\": 1}, {\"len\": 1}, {\"len\": 1}, {\"len\": 1}, {\"len\": 1}, {\"len\": 1}, {\"len\": 1}, {\"len\": 1}, {\"len\": 2}, {\"len\": 3}, {\"len\": 2}, {\"len\": 1}, {\"len\": 3}, {\"len\": 1}, {\"len\": 1}, {\"len\": 1}, {\"len\": 1}, {\"len\": 4}, {\"len\": 1}, {\"len\": 1}, {\"len\": 2}, {\"len\": 1}, {\"len\": 1}, {\"len\": 1}, {\"len\": 1}, {\"len\": 5}, {\"len\": 1}, {\"len\": 2}, {\"len\": 1}, {\"len\": 1}, {\"len\": 1}, {\"len\": 2}, {\"len\": 1}, {\"len\": 1}, {\"len\": 2}, {\"len\": 3}, {\"len\": 2}, {\"len\": 1}, {\"len\": 1}, {\"len\": 1}, {\"len\": 2}, {\"len\": 1}, {\"len\": 1}, {\"len\": 1}, {\"len\": 1}, {\"len\": 1}, {\"len\": 1}, {\"len\": 1}, {\"len\": 1}, {\"len\": 4}, {\"len\": 1}, {\"len\": 2}, {\"len\": 1}, {\"len\": 1}, {\"len\": 1}, {\"len\": 6}, {\"len\": 1}, {\"len\": 1}, {\"len\": 1}, {\"len\": 1}, {\"len\": 1}, {\"len\": 1}, {\"len\": 1}, {\"len\": 1}, {\"len\": 2}, {\"len\": 1}, {\"len\": 1}, {\"len\": 1}, {\"len\": 1}, {\"len\": 1}, {\"len\": 3}, {\"len\": 1}, {\"len\": 1}, {\"len\": 12}, {\"len\": 1}, {\"len\": 1}, {\"len\": 1}, {\"len\": 1}, {\"len\": 1}, {\"len\": 1}, {\"len\": 1}, {\"len\": 1}, {\"len\": 1}, {\"len\": 1}, {\"len\": 1}, {\"len\": 2}, {\"len\": 3}, {\"len\": 3}, {\"len\": 1}, {\"len\": 1}, {\"len\": 2}, {\"len\": 1}, {\"len\": 1}, {\"len\": 1}, {\"len\": 1}, {\"len\": 2}, {\"len\": 1}, {\"len\": 2}, {\"len\": 1}, {\"len\": 2}, {\"len\": 1}, {\"len\": 1}, {\"len\": 1}, {\"len\": 1}, {\"len\": 1}, {\"len\": 1}, {\"len\": 1}, {\"len\": 1}, {\"len\": 1}, {\"len\": 1}, {\"len\": 1}, {\"len\": 1}, {\"len\": 1}, {\"len\": 12}, {\"len\": 1}, {\"len\": 1}, {\"len\": 3}, {\"len\": 1}, {\"len\": 1}, {\"len\": 11}, {\"len\": 1}, {\"len\": 1}, {\"len\": 1}, {\"len\": 1}, {\"len\": 1}, {\"len\": 2}, {\"len\": 1}, {\"len\": 1}, {\"len\": 1}, {\"len\": 5}, {\"len\": 1}, {\"len\": 1}, {\"len\": 1}, {\"len\": 1}, {\"len\": 1}, {\"len\": 2}, {\"len\": 1}, {\"len\": 1}, {\"len\": 1}, {\"len\": 1}, {\"len\": 2}, {\"len\": 2}, {\"len\": 1}, {\"len\": 2}, {\"len\": 1}, {\"len\": 1}, {\"len\": 1}, {\"len\": 3}, {\"len\": 2}, {\"len\": 1}, {\"len\": 1}, {\"len\": 1}, {\"len\": 1}, {\"len\": 1}, {\"len\": 8}, {\"len\": 2}, {\"len\": 2}, {\"len\": 1}, {\"len\": 1}, {\"len\": 1}, {\"len\": 1}, {\"len\": 1}, {\"len\": 1}, {\"len\": 1}, {\"len\": 1}, {\"len\": 1}, {\"len\": 2}, {\"len\": 1}, {\"len\": 1}, {\"len\": 1}, {\"len\": 1}, {\"len\": 1}, {\"len\": 1}, {\"len\": 2}, {\"len\": 1}, {\"len\": 15}, {\"len\": 1}, {\"len\": 1}, {\"len\": 2}, {\"len\": 1}, {\"len\": 1}, {\"len\": 1}, {\"len\": 1}, {\"len\": 1}, {\"len\": 1}, {\"len\": 1}, {\"len\": 1}, {\"len\": 1}, {\"len\": 1}, {\"len\": 1}, {\"len\": 2}, {\"len\": 1}, {\"len\": 1}, {\"len\": 1}, {\"len\": 1}, {\"len\": 3}, {\"len\": 1}, {\"len\": 1}, {\"len\": 2}, {\"len\": 1}, {\"len\": 1}, {\"len\": 1}, {\"len\": 1}, {\"len\": 1}, {\"len\": 1}, {\"len\": 2}, {\"len\": 1}, {\"len\": 3}, {\"len\": 1}, {\"len\": 1}, {\"len\": 1}, {\"len\": 1}, {\"len\": 4}, {\"len\": 1}, {\"len\": 1}, {\"len\": 1}, {\"len\": 2}, {\"len\": 1}, {\"len\": 1}, {\"len\": 1}, {\"len\": 1}, {\"len\": 1}, {\"len\": 1}, {\"len\": 1}, {\"len\": 1}, {\"len\": 1}, {\"len\": 1}, {\"len\": 2}, {\"len\": 1}, {\"len\": 1}, {\"len\": 2}, {\"len\": 1}, {\"len\": 2}, {\"len\": 1}, {\"len\": 13}, {\"len\": 1}, {\"len\": 1}, {\"len\": 1}, {\"len\": 1}, {\"len\": 1}, {\"len\": 1}, {\"len\": 1}, {\"len\": 2}, {\"len\": 1}, {\"len\": 3}, {\"len\": 1}, {\"len\": 1}, {\"len\": 1}, {\"len\": 1}, {\"len\": 1}, {\"len\": 1}, {\"len\": 1}, {\"len\": 3}, {\"len\": 1}, {\"len\": 1}, {\"len\": 1}, {\"len\": 9}, {\"len\": 1}, {\"len\": 6}, {\"len\": 1}, {\"len\": 4}, {\"len\": 1}, {\"len\": 1}, {\"len\": 1}, {\"len\": 1}, {\"len\": 2}, {\"len\": 1}, {\"len\": 1}, {\"len\": 2}, {\"len\": 5}, {\"len\": 1}, {\"len\": 1}, {\"len\": 1}, {\"len\": 1}, {\"len\": 1}, {\"len\": 1}, {\"len\": 1}, {\"len\": 1}, {\"len\": 1}, {\"len\": 1}, {\"len\": 1}, {\"len\": 14}, {\"len\": 1}, {\"len\": 1}, {\"len\": 1}, {\"len\": 1}, {\"len\": 1}, {\"len\": 1}, {\"len\": 1}, {\"len\": 1}, {\"len\": 1}, {\"len\": 3}, {\"len\": 1}, {\"len\": 1}, {\"len\": 3}, {\"len\": 1}, {\"len\": 1}, {\"len\": 1}, {\"len\": 1}, {\"len\": 1}, {\"len\": 3}, {\"len\": 1}, {\"len\": 1}, {\"len\": 1}, {\"len\": 1}, {\"len\": 2}, {\"len\": 1}, {\"len\": 1}, {\"len\": 1}, {\"len\": 1}, {\"len\": 1}, {\"len\": 1}, {\"len\": 2}, {\"len\": 1}, {\"len\": 1}, {\"len\": 1}, {\"len\": 2}, {\"len\": 1}, {\"len\": 1}, {\"len\": 11}, {\"len\": 1}, {\"len\": 10}, {\"len\": 1}, {\"len\": 1}, {\"len\": 2}, {\"len\": 2}, {\"len\": 1}, {\"len\": 1}, {\"len\": 1}, {\"len\": 2}, {\"len\": 1}, {\"len\": 3}, {\"len\": 1}, {\"len\": 1}, {\"len\": 1}, {\"len\": 1}, {\"len\": 3}, {\"len\": 2}, {\"len\": 8}, {\"len\": 3}, {\"len\": 8}, {\"len\": 1}, {\"len\": 1}, {\"len\": 1}, {\"len\": 5}, {\"len\": 1}, {\"len\": 4}, {\"len\": 1}, {\"len\": 1}, {\"len\": 12}, {\"len\": 2}, {\"len\": 1}, {\"len\": 1}, {\"len\": 1}, {\"len\": 1}, {\"len\": 1}, {\"len\": 1}, {\"len\": 1}, {\"len\": 6}, {\"len\": 1}, {\"len\": 2}, {\"len\": 1}, {\"len\": 1}, {\"len\": 1}, {\"len\": 2}, {\"len\": 1}, {\"len\": 2}, {\"len\": 1}, {\"len\": 1}, {\"len\": 1}, {\"len\": 1}, {\"len\": 2}, {\"len\": 1}, {\"len\": 1}, {\"len\": 1}, {\"len\": 1}, {\"len\": 1}, {\"len\": 1}, {\"len\": 3}, {\"len\": 1}, {\"len\": 4}, {\"len\": 3}, {\"len\": 2}, {\"len\": 1}, {\"len\": 2}, {\"len\": 1}, {\"len\": 1}, {\"len\": 1}, {\"len\": 1}, {\"len\": 1}, {\"len\": 1}, {\"len\": 3}, {\"len\": 1}, {\"len\": 1}, {\"len\": 1}, {\"len\": 1}, {\"len\": 1}, {\"len\": 1}, {\"len\": 1}, {\"len\": 3}, {\"len\": 1}, {\"len\": 1}, {\"len\": 1}, {\"len\": 2}, {\"len\": 1}, {\"len\": 1}, {\"len\": 1}, {\"len\": 1}, {\"len\": 1}, {\"len\": 1}, {\"len\": 1}, {\"len\": 9}, {\"len\": 1}, {\"len\": 2}, {\"len\": 1}, {\"len\": 1}, {\"len\": 1}, {\"len\": 1}, {\"len\": 2}, {\"len\": 2}, {\"len\": 1}, {\"len\": 1}, {\"len\": 1}, {\"len\": 6}, {\"len\": 7}, {\"len\": 1}, {\"len\": 1}, {\"len\": 1}, {\"len\": 1}, {\"len\": 1}, {\"len\": 1}, {\"len\": 1}, {\"len\": 1}, {\"len\": 1}, {\"len\": 1}, {\"len\": 2}, {\"len\": 1}, {\"len\": 2}, {\"len\": 1}, {\"len\": 2}, {\"len\": 1}, {\"len\": 2}, {\"len\": 1}, {\"len\": 1}, {\"len\": 1}, {\"len\": 2}, {\"len\": 1}, {\"len\": 1}, {\"len\": 1}, {\"len\": 5}, {\"len\": 2}, {\"len\": 1}, {\"len\": 1}, {\"len\": 2}, {\"len\": 1}, {\"len\": 2}, {\"len\": 2}, {\"len\": 1}, {\"len\": 1}, {\"len\": 1}, {\"len\": 1}, {\"len\": 1}, {\"len\": 1}, {\"len\": 3}, {\"len\": 1}, {\"len\": 3}, {\"len\": 2}, {\"len\": 1}, {\"len\": 1}, {\"len\": 1}, {\"len\": 2}, {\"len\": 1}, {\"len\": 1}, {\"len\": 1}, {\"len\": 1}, {\"len\": 1}, {\"len\": 1}, {\"len\": 1}, {\"len\": 1}, {\"len\": 4}, {\"len\": 1}, {\"len\": 1}, {\"len\": 1}, {\"len\": 2}, {\"len\": 2}, {\"len\": 2}, {\"len\": 1}, {\"len\": 1}, {\"len\": 1}, {\"len\": 1}, {\"len\": 2}, {\"len\": 1}, {\"len\": 2}, {\"len\": 1}, {\"len\": 1}, {\"len\": 1}, {\"len\": 4}, {\"len\": 1}, {\"len\": 1}, {\"len\": 1}, {\"len\": 2}, {\"len\": 1}, {\"len\": 1}, {\"len\": 2}, {\"len\": 1}, {\"len\": 2}, {\"len\": 2}, {\"len\": 1}, {\"len\": 1}, {\"len\": 1}, {\"len\": 1}, {\"len\": 1}, {\"len\": 1}, {\"len\": 1}, {\"len\": 1}, {\"len\": 1}, {\"len\": 1}, {\"len\": 1}, {\"len\": 4}, {\"len\": 2}, {\"len\": 1}, {\"len\": 1}, {\"len\": 1}, {\"len\": 1}, {\"len\": 1}, {\"len\": 1}, {\"len\": 1}, {\"len\": 1}, {\"len\": 1}, {\"len\": 2}, {\"len\": 1}, {\"len\": 1}, {\"len\": 1}, {\"len\": 1}, {\"len\": 1}, {\"len\": 3}, {\"len\": 1}, {\"len\": 1}, {\"len\": 1}, {\"len\": 1}, {\"len\": 1}, {\"len\": 1}, {\"len\": 1}, {\"len\": 1}, {\"len\": 10}, {\"len\": 1}, {\"len\": 4}, {\"len\": 2}, {\"len\": 1}, {\"len\": 1}, {\"len\": 2}, {\"len\": 2}, {\"len\": 1}, {\"len\": 3}, {\"len\": 1}, {\"len\": 1}, {\"len\": 1}, {\"len\": 1}, {\"len\": 3}, {\"len\": 1}, {\"len\": 2}, {\"len\": 2}, {\"len\": 1}, {\"len\": 1}, {\"len\": 1}, {\"len\": 1}, {\"len\": 1}, {\"len\": 2}, {\"len\": 1}, {\"len\": 1}, {\"len\": 3}, {\"len\": 1}, {\"len\": 1}, {\"len\": 1}, {\"len\": 1}, {\"len\": 1}, {\"len\": 1}, {\"len\": 1}, {\"len\": 1}, {\"len\": 1}, {\"len\": 2}, {\"len\": 1}, {\"len\": 2}, {\"len\": 31}, {\"len\": 1}, {\"len\": 4}, {\"len\": 3}, {\"len\": 1}, {\"len\": 1}, {\"len\": 1}, {\"len\": 3}, {\"len\": 4}, {\"len\": 1}, {\"len\": 1}, {\"len\": 4}, {\"len\": 1}, {\"len\": 2}, {\"len\": 1}, {\"len\": 1}, {\"len\": 1}, {\"len\": 1}, {\"len\": 5}, {\"len\": 1}, {\"len\": 1}, {\"len\": 1}, {\"len\": 1}, {\"len\": 1}, {\"len\": 1}, {\"len\": 1}, {\"len\": 1}, {\"len\": 1}, {\"len\": 1}, {\"len\": 1}, {\"len\": 2}, {\"len\": 1}, {\"len\": 1}, {\"len\": 3}, {\"len\": 1}, {\"len\": 1}, {\"len\": 1}, {\"len\": 1}, {\"len\": 1}, {\"len\": 1}, {\"len\": 1}, {\"len\": 1}, {\"len\": 2}, {\"len\": 1}, {\"len\": 1}, {\"len\": 1}, {\"len\": 2}, {\"len\": 1}, {\"len\": 1}, {\"len\": 6}, {\"len\": 1}, {\"len\": 1}, {\"len\": 1}, {\"len\": 14}, {\"len\": 12}, {\"len\": 4}, {\"len\": 1}, {\"len\": 1}, {\"len\": 1}, {\"len\": 24}, {\"len\": 1}, {\"len\": 1}, {\"len\": 2}, {\"len\": 1}, {\"len\": 2}, {\"len\": 1}, {\"len\": 3}, {\"len\": 1}, {\"len\": 1}, {\"len\": 2}, {\"len\": 1}, {\"len\": 1}, {\"len\": 1}, {\"len\": 3}, {\"len\": 1}, {\"len\": 1}, {\"len\": 16}, {\"len\": 1}, {\"len\": 2}, {\"len\": 1}, {\"len\": 1}, {\"len\": 26}, {\"len\": 1}, {\"len\": 3}, {\"len\": 5}, {\"len\": 1}, {\"len\": 1}, {\"len\": 1}, {\"len\": 1}, {\"len\": 1}, {\"len\": 1}, {\"len\": 1}, {\"len\": 1}, {\"len\": 1}, {\"len\": 1}, {\"len\": 1}, {\"len\": 1}, {\"len\": 2}, {\"len\": 2}, {\"len\": 3}, {\"len\": 1}, {\"len\": 2}, {\"len\": 2}, {\"len\": 1}, {\"len\": 2}, {\"len\": 3}, {\"len\": 1}, {\"len\": 1}, {\"len\": 1}, {\"len\": 1}, {\"len\": 1}, {\"len\": 2}, {\"len\": 1}, {\"len\": 17}, {\"len\": 1}, {\"len\": 3}, {\"len\": 1}, {\"len\": 1}, {\"len\": 1}, {\"len\": 1}, {\"len\": 1}, {\"len\": 1}, {\"len\": 1}, {\"len\": 1}, {\"len\": 2}, {\"len\": 2}, {\"len\": 1}, {\"len\": 1}, {\"len\": 1}, {\"len\": 1}, {\"len\": 1}, {\"len\": 1}, {\"len\": 1}, {\"len\": 1}, {\"len\": 4}, {\"len\": 1}, {\"len\": 1}, {\"len\": 2}, {\"len\": 1}, {\"len\": 1}, {\"len\": 3}, {\"len\": 1}, {\"len\": 1}, {\"len\": 1}, {\"len\": 2}, {\"len\": 1}, {\"len\": 8}, {\"len\": 2}, {\"len\": 1}, {\"len\": 2}, {\"len\": 2}, {\"len\": 1}, {\"len\": 1}, {\"len\": 2}, {\"len\": 1}, {\"len\": 5}, {\"len\": 1}, {\"len\": 1}, {\"len\": 1}, {\"len\": 1}, {\"len\": 1}, {\"len\": 1}, {\"len\": 1}, {\"len\": 1}, {\"len\": 2}, {\"len\": 1}, {\"len\": 1}, {\"len\": 1}, {\"len\": 3}, {\"len\": 1}, {\"len\": 1}, {\"len\": 1}, {\"len\": 1}, {\"len\": 5}, {\"len\": 1}, {\"len\": 2}, {\"len\": 1}, {\"len\": 2}, {\"len\": 1}, {\"len\": 1}, {\"len\": 1}, {\"len\": 1}, {\"len\": 2}, {\"len\": 1}, {\"len\": 1}, {\"len\": 1}, {\"len\": 1}, {\"len\": 1}, {\"len\": 1}, {\"len\": 2}, {\"len\": 1}, {\"len\": 1}, {\"len\": 1}, {\"len\": 9}, {\"len\": 1}, {\"len\": 1}, {\"len\": 1}, {\"len\": 1}, {\"len\": 1}, {\"len\": 1}, {\"len\": 2}, {\"len\": 1}, {\"len\": 1}, {\"len\": 1}, {\"len\": 1}, {\"len\": 1}, {\"len\": 1}, {\"len\": 1}, {\"len\": 1}, {\"len\": 1}, {\"len\": 3}, {\"len\": 1}, {\"len\": 1}, {\"len\": 2}, {\"len\": 1}, {\"len\": 1}, {\"len\": 1}, {\"len\": 1}, {\"len\": 1}, {\"len\": 1}, {\"len\": 1}, {\"len\": 1}, {\"len\": 1}, {\"len\": 1}, {\"len\": 1}, {\"len\": 6}, {\"len\": 1}, {\"len\": 1}, {\"len\": 1}, {\"len\": 1}, {\"len\": 1}, {\"len\": 1}, {\"len\": 2}, {\"len\": 1}, {\"len\": 1}, {\"len\": 1}, {\"len\": 1}, {\"len\": 1}, {\"len\": 1}, {\"len\": 3}, {\"len\": 1}, {\"len\": 2}, {\"len\": 1}, {\"len\": 1}, {\"len\": 1}, {\"len\": 1}, {\"len\": 2}, {\"len\": 1}, {\"len\": 1}, {\"len\": 1}, {\"len\": 1}, {\"len\": 1}, {\"len\": 1}, {\"len\": 1}, {\"len\": 2}, {\"len\": 1}, {\"len\": 1}, {\"len\": 1}, {\"len\": 1}, {\"len\": 1}, {\"len\": 8}, {\"len\": 1}, {\"len\": 2}, {\"len\": 1}, {\"len\": 5}, {\"len\": 1}, {\"len\": 1}, {\"len\": 1}, {\"len\": 1}, {\"len\": 2}, {\"len\": 1}, {\"len\": 6}, {\"len\": 1}, {\"len\": 2}, {\"len\": 1}, {\"len\": 1}, {\"len\": 1}, {\"len\": 1}, {\"len\": 1}, {\"len\": 1}, {\"len\": 1}, {\"len\": 4}, {\"len\": 1}, {\"len\": 1}, {\"len\": 1}, {\"len\": 1}, {\"len\": 1}, {\"len\": 1}, {\"len\": 2}, {\"len\": 1}, {\"len\": 1}, {\"len\": 1}, {\"len\": 1}, {\"len\": 1}, {\"len\": 1}, {\"len\": 3}, {\"len\": 1}, {\"len\": 2}, {\"len\": 1}, {\"len\": 1}, {\"len\": 1}, {\"len\": 1}, {\"len\": 26}, {\"len\": 1}, {\"len\": 1}, {\"len\": 1}, {\"len\": 1}, {\"len\": 5}, {\"len\": 1}, {\"len\": 2}, {\"len\": 1}, {\"len\": 1}, {\"len\": 1}, {\"len\": 1}, {\"len\": 1}, {\"len\": 1}, {\"len\": 1}, {\"len\": 2}, {\"len\": 1}, {\"len\": 1}, {\"len\": 1}, {\"len\": 2}, {\"len\": 1}, {\"len\": 1}, {\"len\": 1}, {\"len\": 1}, {\"len\": 1}, {\"len\": 1}, {\"len\": 1}, {\"len\": 1}, {\"len\": 3}, {\"len\": 1}, {\"len\": 18}, {\"len\": 1}, {\"len\": 1}, {\"len\": 1}, {\"len\": 1}, {\"len\": 1}, {\"len\": 1}, {\"len\": 1}, {\"len\": 1}, {\"len\": 1}, {\"len\": 2}, {\"len\": 1}, {\"len\": 2}, {\"len\": 1}, {\"len\": 1}, {\"len\": 1}, {\"len\": 1}, {\"len\": 1}, {\"len\": 5}, {\"len\": 3}, {\"len\": 1}, {\"len\": 1}, {\"len\": 1}, {\"len\": 1}, {\"len\": 1}, {\"len\": 1}, {\"len\": 1}, {\"len\": 12}, {\"len\": 1}, {\"len\": 1}, {\"len\": 1}, {\"len\": 1}, {\"len\": 1}, {\"len\": 2}, {\"len\": 1}, {\"len\": 1}, {\"len\": 1}, {\"len\": 1}, {\"len\": 1}, {\"len\": 1}, {\"len\": 9}, {\"len\": 3}, {\"len\": 6}, {\"len\": 3}, {\"len\": 1}, {\"len\": 1}, {\"len\": 1}, {\"len\": 3}, {\"len\": 2}, {\"len\": 2}, {\"len\": 1}, {\"len\": 1}, {\"len\": 1}, {\"len\": 1}, {\"len\": 1}, {\"len\": 1}, {\"len\": 1}, {\"len\": 1}, {\"len\": 1}, {\"len\": 1}, {\"len\": 4}, {\"len\": 1}, {\"len\": 1}, {\"len\": 1}, {\"len\": 1}, {\"len\": 1}, {\"len\": 2}, {\"len\": 2}, {\"len\": 3}, {\"len\": 1}, {\"len\": 1}, {\"len\": 1}, {\"len\": 1}, {\"len\": 1}, {\"len\": 1}, {\"len\": 5}, {\"len\": 10}, {\"len\": 1}, {\"len\": 3}, {\"len\": 1}, {\"len\": 1}, {\"len\": 1}, {\"len\": 17}, {\"len\": 3}, {\"len\": 1}]}}, {\"mode\": \"vega-lite\"});\n",
       "</script>"
      ],
      "text/plain": [
       "alt.Chart(...)"
      ]
     },
     "execution_count": 9,
     "metadata": {},
     "output_type": "execute_result"
    }
   ],
   "source": [
    "(\n",
    "    df\n",
    "    .group_by('county.name')\n",
    "    .len()\n",
    "    ['len'].plot.hist()\n",
    ")"
   ]
  }
 ],
 "metadata": {
  "kernelspec": {
   "display_name": "venv",
   "language": "python",
   "name": "python3"
  },
  "language_info": {
   "codemirror_mode": {
    "name": "ipython",
    "version": 3
   },
   "file_extension": ".py",
   "mimetype": "text/x-python",
   "name": "python",
   "nbconvert_exporter": "python",
   "pygments_lexer": "ipython3",
   "version": "3.12.0"
  }
 },
 "nbformat": 4,
 "nbformat_minor": 2
}
