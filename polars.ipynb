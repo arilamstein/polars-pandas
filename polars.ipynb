{
 "cells": [
  {
   "cell_type": "markdown",
   "metadata": {},
   "source": [
    "### Use the Polars library to:\n",
    "1. Read in a CSV file of US Counties to a dataframe.\n",
    "2. Subset the rows in the dataframe to counties named `Washington`.\n",
    "3. Subset the columns in the dataframe to `county.name` and `state.name`."
   ]
  },
  {
   "cell_type": "code",
   "execution_count": 1,
   "metadata": {},
   "outputs": [
    {
     "data": {
      "text/html": [
       "<div><style>\n",
       ".dataframe > thead > tr,\n",
       ".dataframe > tbody > tr {\n",
       "  text-align: right;\n",
       "  white-space: pre-wrap;\n",
       "}\n",
       "</style>\n",
       "<small>shape: (3_143, 7)</small><table border=\"1\" class=\"dataframe\"><thead><tr><th>region</th><th>population</th><th>county.fips.character</th><th>county.name</th><th>state.name</th><th>state.fips.character</th><th>state.abb</th></tr><tr><td>i64</td><td>i64</td><td>i64</td><td>str</td><td>str</td><td>i64</td><td>str</td></tr></thead><tbody><tr><td>1001</td><td>54590</td><td>1001</td><td>&quot;autauga&quot;</td><td>&quot;alabama&quot;</td><td>1</td><td>&quot;AL&quot;</td></tr><tr><td>1003</td><td>183226</td><td>1003</td><td>&quot;baldwin&quot;</td><td>&quot;alabama&quot;</td><td>1</td><td>&quot;AL&quot;</td></tr><tr><td>1005</td><td>27469</td><td>1005</td><td>&quot;barbour&quot;</td><td>&quot;alabama&quot;</td><td>1</td><td>&quot;AL&quot;</td></tr><tr><td>1007</td><td>22769</td><td>1007</td><td>&quot;bibb&quot;</td><td>&quot;alabama&quot;</td><td>1</td><td>&quot;AL&quot;</td></tr><tr><td>1009</td><td>57466</td><td>1009</td><td>&quot;blount&quot;</td><td>&quot;alabama&quot;</td><td>1</td><td>&quot;AL&quot;</td></tr><tr><td>&hellip;</td><td>&hellip;</td><td>&hellip;</td><td>&hellip;</td><td>&hellip;</td><td>&hellip;</td><td>&hellip;</td></tr><tr><td>56037</td><td>43890</td><td>56037</td><td>&quot;sweetwater&quot;</td><td>&quot;wyoming&quot;</td><td>56</td><td>&quot;WY&quot;</td></tr><tr><td>56039</td><td>21326</td><td>56039</td><td>&quot;teton&quot;</td><td>&quot;wyoming&quot;</td><td>56</td><td>&quot;WY&quot;</td></tr><tr><td>56041</td><td>20942</td><td>56041</td><td>&quot;uinta&quot;</td><td>&quot;wyoming&quot;</td><td>56</td><td>&quot;WY&quot;</td></tr><tr><td>56043</td><td>8425</td><td>56043</td><td>&quot;washakie&quot;</td><td>&quot;wyoming&quot;</td><td>56</td><td>&quot;WY&quot;</td></tr><tr><td>56045</td><td>7152</td><td>56045</td><td>&quot;weston&quot;</td><td>&quot;wyoming&quot;</td><td>56</td><td>&quot;WY&quot;</td></tr></tbody></table></div>"
      ],
      "text/plain": [
       "shape: (3_143, 7)\n",
       "┌────────┬────────────┬──────────────────┬─────────────┬────────────┬──────────────────┬───────────┐\n",
       "│ region ┆ population ┆ county.fips.char ┆ county.name ┆ state.name ┆ state.fips.chara ┆ state.abb │\n",
       "│ ---    ┆ ---        ┆ acter            ┆ ---         ┆ ---        ┆ cter             ┆ ---       │\n",
       "│ i64    ┆ i64        ┆ ---              ┆ str         ┆ str        ┆ ---              ┆ str       │\n",
       "│        ┆            ┆ i64              ┆             ┆            ┆ i64              ┆           │\n",
       "╞════════╪════════════╪══════════════════╪═════════════╪════════════╪══════════════════╪═══════════╡\n",
       "│ 1001   ┆ 54590      ┆ 1001             ┆ autauga     ┆ alabama    ┆ 1                ┆ AL        │\n",
       "│ 1003   ┆ 183226     ┆ 1003             ┆ baldwin     ┆ alabama    ┆ 1                ┆ AL        │\n",
       "│ 1005   ┆ 27469      ┆ 1005             ┆ barbour     ┆ alabama    ┆ 1                ┆ AL        │\n",
       "│ 1007   ┆ 22769      ┆ 1007             ┆ bibb        ┆ alabama    ┆ 1                ┆ AL        │\n",
       "│ 1009   ┆ 57466      ┆ 1009             ┆ blount      ┆ alabama    ┆ 1                ┆ AL        │\n",
       "│ …      ┆ …          ┆ …                ┆ …           ┆ …          ┆ …                ┆ …         │\n",
       "│ 56037  ┆ 43890      ┆ 56037            ┆ sweetwater  ┆ wyoming    ┆ 56               ┆ WY        │\n",
       "│ 56039  ┆ 21326      ┆ 56039            ┆ teton       ┆ wyoming    ┆ 56               ┆ WY        │\n",
       "│ 56041  ┆ 20942      ┆ 56041            ┆ uinta       ┆ wyoming    ┆ 56               ┆ WY        │\n",
       "│ 56043  ┆ 8425       ┆ 56043            ┆ washakie    ┆ wyoming    ┆ 56               ┆ WY        │\n",
       "│ 56045  ┆ 7152       ┆ 56045            ┆ weston      ┆ wyoming    ┆ 56               ┆ WY        │\n",
       "└────────┴────────────┴──────────────────┴─────────────┴────────────┴──────────────────┴───────────┘"
      ]
     },
     "execution_count": 1,
     "metadata": {},
     "output_type": "execute_result"
    }
   ],
   "source": [
    "import polars as pl\n",
    "\n",
    "df = pl.read_csv('county_data.csv')\n",
    "df"
   ]
  },
  {
   "cell_type": "code",
   "execution_count": 2,
   "metadata": {},
   "outputs": [
    {
     "data": {
      "text/html": [
       "<div><style>\n",
       ".dataframe > thead > tr,\n",
       ".dataframe > tbody > tr {\n",
       "  text-align: right;\n",
       "  white-space: pre-wrap;\n",
       "}\n",
       "</style>\n",
       "<small>shape: (31, 2)</small><table border=\"1\" class=\"dataframe\"><thead><tr><th>county.name</th><th>state.name</th></tr><tr><td>str</td><td>str</td></tr></thead><tbody><tr><td>&quot;washington&quot;</td><td>&quot;alabama&quot;</td></tr><tr><td>&quot;washington&quot;</td><td>&quot;arkansas&quot;</td></tr><tr><td>&quot;washington&quot;</td><td>&quot;colorado&quot;</td></tr><tr><td>&quot;washington&quot;</td><td>&quot;florida&quot;</td></tr><tr><td>&quot;washington&quot;</td><td>&quot;georgia&quot;</td></tr><tr><td>&hellip;</td><td>&hellip;</td></tr><tr><td>&quot;washington&quot;</td><td>&quot;texas&quot;</td></tr><tr><td>&quot;washington&quot;</td><td>&quot;utah&quot;</td></tr><tr><td>&quot;washington&quot;</td><td>&quot;vermont&quot;</td></tr><tr><td>&quot;washington&quot;</td><td>&quot;virginia&quot;</td></tr><tr><td>&quot;washington&quot;</td><td>&quot;wisconsin&quot;</td></tr></tbody></table></div>"
      ],
      "text/plain": [
       "shape: (31, 2)\n",
       "┌─────────────┬────────────┐\n",
       "│ county.name ┆ state.name │\n",
       "│ ---         ┆ ---        │\n",
       "│ str         ┆ str        │\n",
       "╞═════════════╪════════════╡\n",
       "│ washington  ┆ alabama    │\n",
       "│ washington  ┆ arkansas   │\n",
       "│ washington  ┆ colorado   │\n",
       "│ washington  ┆ florida    │\n",
       "│ washington  ┆ georgia    │\n",
       "│ …           ┆ …          │\n",
       "│ washington  ┆ texas      │\n",
       "│ washington  ┆ utah       │\n",
       "│ washington  ┆ vermont    │\n",
       "│ washington  ┆ virginia   │\n",
       "│ washington  ┆ wisconsin  │\n",
       "└─────────────┴────────────┘"
      ]
     },
     "execution_count": 2,
     "metadata": {},
     "output_type": "execute_result"
    }
   ],
   "source": [
    "# Just show the county and state columns\n",
    "(\n",
    "    df\n",
    "    .filter(pl.col('county.name') == 'washington')\n",
    "    .select(['county.name', 'state.name'])\n",
    ")"
   ]
  }
 ],
 "metadata": {
  "kernelspec": {
   "display_name": "venv",
   "language": "python",
   "name": "python3"
  },
  "language_info": {
   "codemirror_mode": {
    "name": "ipython",
    "version": 3
   },
   "file_extension": ".py",
   "mimetype": "text/x-python",
   "name": "python",
   "nbconvert_exporter": "python",
   "pygments_lexer": "ipython3",
   "version": "3.12.0"
  }
 },
 "nbformat": 4,
 "nbformat_minor": 2
}
